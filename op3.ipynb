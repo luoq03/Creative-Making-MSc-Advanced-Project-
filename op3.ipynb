{
 "cells": [
  {
   "cell_type": "code",
   "execution_count": 1,
   "metadata": {},
   "outputs": [],
   "source": [
    "import torch\n",
    "import cv2\n",
    "from torchvision import models, transforms\n",
    "import serial\n",
    "import serial.tools.list_ports\n",
    "import time\n",
    "import math\n"
   ]
  },
  {
   "cell_type": "markdown",
   "metadata": {},
   "source": []
  },
  {
   "cell_type": "code",
   "execution_count": 2,
   "metadata": {},
   "outputs": [
    {
     "name": "stderr",
     "output_type": "stream",
     "text": [
      "/Users/macbookpro/opt/anaconda3/lib/python3.9/site-packages/torchvision/models/_utils.py:208: UserWarning: The parameter 'pretrained' is deprecated since 0.13 and may be removed in the future, please use 'weights' instead.\n",
      "  warnings.warn(\n",
      "/Users/macbookpro/opt/anaconda3/lib/python3.9/site-packages/torchvision/models/_utils.py:223: UserWarning: Arguments other than a weight enum or `None` for 'weights' are deprecated since 0.13 and may be removed in the future. The current behavior is equivalent to passing `weights=ResNet18_Weights.IMAGENET1K_V1`. You can also use `weights=ResNet18_Weights.DEFAULT` to get the most up-to-date weights.\n",
      "  warnings.warn(msg)\n"
     ]
    },
    {
     "data": {
      "text/plain": [
       "<All keys matched successfully>"
      ]
     },
     "execution_count": 2,
     "metadata": {},
     "output_type": "execute_result"
    }
   ],
   "source": [
    "import torch\n",
    "import torchvision.models as models\n",
    "import torchvision.transforms as transforms\n",
    "from PIL import Image\n",
    "from torch import nn\n",
    "import numpy as np\n",
    "\n",
    "ser = serial.Serial('/dev/cu.usbserial-144140', 115200,timeout=1)\n",
    "num=0 \n",
    "label_name_list = ['angry', 'disgust', 'fear', 'happy', 'neutral', 'sad', 'surprise']\n",
    "save_path = \"resnet18v1.pth\"\n",
    "num_classes = len(label_name_list)\n",
    "img_width = 224\n",
    "\n",
    "# 定义一个预测函数\n",
    "# 加载预训练的 ResNet-18 模型\n",
    "model_reload = models.resnet18(pretrained=True)\n",
    "num_ftrs = model_reload.fc.in_features\n",
    "model_reload.fc = nn.Linear(num_ftrs, num_classes)\n",
    "# model_reload.to('cpu')\n",
    "model_reload.load_state_dict(torch.load(save_path,map_location=torch.device('cpu')))"
   ]
  },
  {
   "cell_type": "code",
   "execution_count": 3,
   "metadata": {},
   "outputs": [],
   "source": [
    "# 图像预处理\n",
    "# ori = image.copy()\n",
    "pred_transform = transforms.Compose([\n",
    "                    transforms.ToPILImage(),\n",
    "                    transforms.Resize((img_width,img_width)),\n",
    "                    transforms.ToTensor(),\n",
    "                    transforms.Normalize([0.485, 0.456, 0.406], [0.229, 0.224, 0.225])\n",
    "                    ])\n",
    "\n",
    "\n",
    "\n",
    "# 定义一个预测函数\n",
    "def predict(image):\n",
    "\n",
    "    model_reload.eval()\n",
    "    # 进行预测\n",
    "    with torch.no_grad():\n",
    "        outputs = model_reload(image)\n",
    "        _, preds = torch.max(outputs, 1)\n",
    "        # 计算预测概率\n",
    "        pred_score_list = nn.functional.softmax(outputs[0], dim=0).cpu().numpy()\n",
    "        # 获取最大值\n",
    "        pred_score = np.max(pred_score_list)\n",
    "\n",
    "    # 预测最可能的类别\n",
    "    predicted_idx = str(preds[0].item())\n",
    "    label_name = label_name_list[preds[0].item()]\n",
    "    return label_name,str(pred_score)  # 返回预测结果和处理后的图像"
   ]
  },
  {
   "cell_type": "code",
   "execution_count": 4,
   "metadata": {},
   "outputs": [],
   "source": [
    "\n",
    "# 使用OpenCV捕获摄像头视频\n",
    "cap = cv2.VideoCapture(0)\n",
    "\n",
    "while True:\n",
    "    ret, frame = cap.read()\n",
    "    if not ret:\n",
    "        print(\"Error: failed to capture image\")\n",
    "        break\n",
    "\n",
    "    # 将BGR图像转换为RGB，然后应用预处理\n",
    "    rgb_frame = cv2.cvtColor(frame, cv2.COLOR_BGR2RGB)\n",
    "    image = pred_transform(rgb_frame).unsqueeze(0)  # 添加批处理维度\n",
    "    #img_tensor = transform(rgb_frame)\n",
    "    #img_tensor = img_tensor.unsqueeze(0)  # 添加批次维度\n",
    "    label_name,pred_score =  predict(image)\n",
    "\n",
    "\n",
    "\n",
    "    # 在帧上显示预测结果\n",
    "    cv2.putText(frame, label_name, (20, 20), cv2.FONT_HERSHEY_SIMPLEX, 1, (255, 255, 255), 2)\n",
    "    # print (\"label_name >\",label_name)\n",
    "    ser.write(label_name.encode('utf-8'))\n",
    "    #comdata=label_name+'0'\n",
    "    #ser.write(comdata.encode('utf-8'))\n",
    "    #num=num+1\n",
    "    #if num==10:\n",
    "     #   comdata=label_name+'0'\n",
    "     #   num=0\n",
    "     #   ser.write(comdata.encode('utf-8'))\n",
    "        # ser.flushOutput()  # 清空发送缓存\n",
    "    time.sleep(0.1)\n",
    "    # 显示帧\n",
    "    cv2.imshow('frame', frame)\n",
    "\n",
    "    # if cv2.waitKey(1) & 0xFF == ord('q'):\n",
    "    #     break\n",
    "\n",
    "    if cv2.waitKey(1)  == 27:\n",
    "        break\n",
    "# 释放摄像头资源\n",
    "cap.release()\n",
    "cv2.destroyAllWindows()"
   ]
  },
  {
   "cell_type": "code",
   "execution_count": 5,
   "metadata": {},
   "outputs": [
    {
     "ename": "",
     "evalue": "",
     "output_type": "error",
     "traceback": [
      "\u001b[1;31mThe Kernel crashed while executing code in the the current cell or a previous cell. Please review the code in the cell(s) to identify a possible cause of the failure. Click <a href='https://aka.ms/vscodeJupyterKernelCrash'>here</a> for more info. View Jupyter <a href='command:jupyter.viewOutput'>log</a> for further details."
     ]
    }
   ],
   "source": [
    "# ser = serial.Serial('/dev/cu.usbserial-143140', 9600) \n",
    "# def send_data(data):\n",
    "#     ser.write(data.encode())"
   ]
  },
  {
   "cell_type": "code",
   "execution_count": null,
   "metadata": {},
   "outputs": [],
   "source": []
  },
  {
   "cell_type": "code",
   "execution_count": null,
   "metadata": {},
   "outputs": [],
   "source": []
  },
  {
   "cell_type": "code",
   "execution_count": null,
   "metadata": {},
   "outputs": [],
   "source": []
  },
  {
   "cell_type": "code",
   "execution_count": null,
   "metadata": {},
   "outputs": [],
   "source": []
  }
 ],
 "metadata": {
  "kernelspec": {
   "display_name": "base",
   "language": "python",
   "name": "python3"
  },
  "language_info": {
   "codemirror_mode": {
    "name": "ipython",
    "version": 3
   },
   "file_extension": ".py",
   "mimetype": "text/x-python",
   "name": "python",
   "nbconvert_exporter": "python",
   "pygments_lexer": "ipython3",
   "version": "3.9.13"
  }
 },
 "nbformat": 4,
 "nbformat_minor": 2
}
